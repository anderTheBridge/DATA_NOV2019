{
 "cells": [
  {
   "cell_type": "markdown",
   "metadata": {},
   "source": [
    "# Ejemplo de WebScraping con Python\n",
    "## Obtener Ibex35 bolsa de Madrid"
   ]
  },
  {
   "cell_type": "code",
   "execution_count": 1,
   "metadata": {
    "ExecuteTime": {
     "end_time": "2019-01-27T17:53:23.662759Z",
     "start_time": "2019-01-27T17:53:23.651938Z"
    }
   },
   "outputs": [],
   "source": [
    "# import libraries\n",
    "import requests\n",
    "from bs4 import BeautifulSoup\n",
    "import csv\n",
    "from datetime import datetime"
   ]
  },
  {
   "cell_type": "code",
   "execution_count": 2,
   "metadata": {
    "ExecuteTime": {
     "end_time": "2019-01-27T17:38:57.659158Z",
     "start_time": "2019-01-27T17:38:57.655785Z"
    }
   },
   "outputs": [],
   "source": [
    "# indicar la ruta\n",
    "url_page = 'http://www.bolsamadrid.es/esp/aspx/Indices/Resumen.aspx'"
   ]
  },
  {
   "cell_type": "code",
   "execution_count": 3,
   "metadata": {
    "ExecuteTime": {
     "end_time": "2019-01-27T17:40:11.127856Z",
     "start_time": "2019-01-27T17:40:10.642601Z"
    }
   },
   "outputs": [],
   "source": [
    "# tarda 480 milisegundos\n",
    "page = requests.get(url_page).text \n",
    "soup = BeautifulSoup(page, \"lxml\")"
   ]
  },
  {
   "cell_type": "code",
   "execution_count": null,
   "metadata": {
    "ExecuteTime": {
     "end_time": "2019-01-27T17:42:00.515429Z",
     "start_time": "2019-01-27T17:42:00.504178Z"
    }
   },
   "outputs": [],
   "source": [
    "# Obtenemos la tabla por un ID específico\n",
    "tabla = soup.find('table', attrs={'id': 'ctl00_Contenido_tblÍndices'})\n",
    "tabla"
   ]
  },
  {
   "cell_type": "code",
   "execution_count": 5,
   "metadata": {
    "ExecuteTime": {
     "end_time": "2019-01-27T17:55:08.443093Z",
     "start_time": "2019-01-27T17:55:08.436365Z"
    }
   },
   "outputs": [
    {
     "name": "stdout",
     "output_type": "stream",
     "text": [
      "Indice: IBEX 35®\n",
      "Valor: 9.563,70\n"
     ]
    }
   ],
   "source": [
    "name=\"\"\n",
    "price=\"\"\n",
    "nroFila=0\n",
    "for fila in tabla.find_all(\"tr\"):\n",
    "    if nroFila==1:\n",
    "        nroCelda=0\n",
    "        for celda in fila.find_all('td'):\n",
    "            if nroCelda==0:\n",
    "                name=celda.text\n",
    "                print(\"Indice:\", name)\n",
    "            if nroCelda==2:\n",
    "                price=celda.text\n",
    "                print(\"Valor:\", price)\n",
    "            nroCelda=nroCelda+1\n",
    "    nroFila=nroFila+1"
   ]
  },
  {
   "cell_type": "code",
   "execution_count": 6,
   "metadata": {
    "ExecuteTime": {
     "end_time": "2019-01-27T17:56:28.279786Z",
     "start_time": "2019-01-27T17:56:28.271938Z"
    }
   },
   "outputs": [],
   "source": [
    "# Abrimos el csv con append para que pueda agregar contenidos al final del archivo\n",
    "with open('bolsa_ibex35.csv', 'a') as csv_file:\n",
    "    writer = csv.writer(csv_file)\n",
    "    writer.writerow([name, price, datetime.now()])"
   ]
  },
  {
   "cell_type": "markdown",
   "metadata": {},
   "source": [
    "El artículo completo en www.aprendemachinelearning.com"
   ]
  },
  {
   "cell_type": "markdown",
   "metadata": {},
   "source": [
    "## Acediendo a datos de twitter\n",
    "\n",
    "Vamos a acceder a los datos de twitter utilizando la API de Twitter, y la libreria tweepy, y vamos a guardar los datos en un fichero CSV."
   ]
  },
  {
   "cell_type": "markdown",
   "metadata": {},
   "source": [
    "Para ello en primer lugar teneis que crear una aplicación en el área de desarrolladores de twitter, lo que nos permitirá acceder la API Key, el secret API Key, y Los Tokens de acceso\n"
   ]
  },
  {
   "cell_type": "markdown",
   "metadata": {},
   "source": [
    "1. Importar las librerias necesarias"
   ]
  },
  {
   "cell_type": "code",
   "execution_count": 12,
   "metadata": {},
   "outputs": [],
   "source": [
    "import tweepy  \n",
    "import time\n",
    "import csv\n",
    " \n"
   ]
  },
  {
   "cell_type": "markdown",
   "metadata": {},
   "source": [
    "2. Crear las variables con los tokens y los Ids de las APIs"
   ]
  },
  {
   "cell_type": "code",
   "execution_count": null,
   "metadata": {},
   "outputs": [],
   "source": [
    "access_token = \"12085582-j0ie7G8xec7LaPIalqYljlUK2mh64PqDhxTu1UtNr\"  \n",
    "access_token_secret = \"D9OjFAZ7DgKVo4jwhMKWjOK56BIWyTs59YGxBsFe8NygE\"  \n",
    "consumer_key = \"rG4ptSFnS0xEpGZh29KIfwD4e\"  \n",
    "consumer_secret = \"6FcFiGERa5u63JvzCbbA9UNHdxBubrVP6wKy6cFwoySHUZOcvT\"  \n"
   ]
  },
  {
   "cell_type": "markdown",
   "metadata": {},
   "source": [
    "3. Autenticarse con tweepy, y crear un objeto API de tweepy"
   ]
  },
  {
   "cell_type": "code",
   "execution_count": null,
   "metadata": {},
   "outputs": [],
   "source": [
    " \n",
    "auth = tweepy.OAuthHandler(consumer_key, consumer_secret)  \n",
    "auth.set_access_token(access_token, access_token_secret)  \n",
    "api = tweepy.API(auth,wait_on_rate_limit=True)"
   ]
  },
  {
   "cell_type": "markdown",
   "metadata": {},
   "source": [
    "4. Abrir un fichero csv en modo append e incluir una busqueda por un hastag "
   ]
  },
  {
   "cell_type": "code",
   "execution_count": null,
   "metadata": {},
   "outputs": [],
   "source": [
    "csvFile = open('cop25.csv', 'a')\n",
    "#Use csv Writer\n",
    "csvWriter = csv.writer(csvFile)\n",
    "\n",
    "for tweet in tweepy.Cursor(api.search,q=\"#cop25\",count=5000,\n",
    "                           lang=\"en\",\n",
    "                           since=\"2019-10-12\").items():\n",
    "    print (tweet.created_at, tweet.text)\n",
    "    csvWriter.writerow([tweet.created_at, tweet.text.encode('utf-8')])"
   ]
  },
  {
   "cell_type": "code",
   "execution_count": null,
   "metadata": {},
   "outputs": [],
   "source": [
    "csvFile = open('final_balonmano.csv', 'a')\n",
    "#Use csv Writer\n",
    "csvWriter = csv.writer(csvFile)\n",
    "\n",
    "for tweet in tweepy.Cursor(api.search,q=\"#GuerrerasTVE\",count=5000,\n",
    "                           lang=\"es\",\n",
    "                           since=\"2019-10-12\").items():\n",
    "    print (tweet.created_at, tweet.text)\n",
    "    csvWriter.writerow([tweet.created_at, tweet.text.encode('utf-8')])"
   ]
  }
 ],
 "metadata": {
  "kernelspec": {
   "display_name": "Python 3",
   "language": "python",
   "name": "python3"
  },
  "language_info": {
   "codemirror_mode": {
    "name": "ipython",
    "version": 3
   },
   "file_extension": ".py",
   "mimetype": "text/x-python",
   "name": "python",
   "nbconvert_exporter": "python",
   "pygments_lexer": "ipython3",
   "version": "3.6.9"
  }
 },
 "nbformat": 4,
 "nbformat_minor": 4
}
