{
 "cells": [
  {
   "cell_type": "markdown",
   "metadata": {},
   "source": [
    "# Ejemplo de WebScraping con Python\n",
    "## Obtener Ibex35 bolsa de Madrid"
   ]
  },
  {
   "cell_type": "code",
   "execution_count": 1,
   "metadata": {
    "ExecuteTime": {
     "end_time": "2019-01-27T17:53:23.662759Z",
     "start_time": "2019-01-27T17:53:23.651938Z"
    }
   },
   "outputs": [],
   "source": [
    "# import libraries\n",
    "import requests\n",
    "from bs4 import BeautifulSoup\n",
    "import csv\n",
    "from datetime import datetime"
   ]
  },
  {
   "cell_type": "code",
   "execution_count": 2,
   "metadata": {
    "ExecuteTime": {
     "end_time": "2019-01-27T17:38:57.659158Z",
     "start_time": "2019-01-27T17:38:57.655785Z"
    }
   },
   "outputs": [],
   "source": [
    "# indicar la ruta\n",
    "url_page = 'http://www.bolsamadrid.es/esp/aspx/Indices/Resumen.aspx'"
   ]
  },
  {
   "cell_type": "code",
   "execution_count": 3,
   "metadata": {
    "ExecuteTime": {
     "end_time": "2019-01-27T17:40:11.127856Z",
     "start_time": "2019-01-27T17:40:10.642601Z"
    }
   },
   "outputs": [],
   "source": [
    "# tarda 480 milisegundos\n",
    "page = requests.get(url_page).text \n",
    "soup = BeautifulSoup(page, \"lxml\")"
   ]
  },
  {
   "cell_type": "code",
   "execution_count": null,
   "metadata": {
    "ExecuteTime": {
     "end_time": "2019-01-27T17:42:00.515429Z",
     "start_time": "2019-01-27T17:42:00.504178Z"
    }
   },
   "outputs": [],
   "source": [
    "# Obtenemos la tabla por un ID específico\n",
    "tabla = soup.find('table', attrs={'id': 'ctl00_Contenido_tblÍndices'})\n",
    "tabla"
   ]
  },
  {
   "cell_type": "code",
   "execution_count": 5,
   "metadata": {
    "ExecuteTime": {
     "end_time": "2019-01-27T17:55:08.443093Z",
     "start_time": "2019-01-27T17:55:08.436365Z"
    }
   },
   "outputs": [
    {
     "name": "stdout",
     "output_type": "stream",
     "text": [
      "Indice: IBEX 35®\n",
      "Valor: 9.563,70\n"
     ]
    }
   ],
   "source": [
    "name=\"\"\n",
    "price=\"\"\n",
    "nroFila=0\n",
    "for fila in tabla.find_all(\"tr\"):\n",
    "    if nroFila==1:\n",
    "        nroCelda=0\n",
    "        for celda in fila.find_all('td'):\n",
    "            if nroCelda==0:\n",
    "                name=celda.text\n",
    "                print(\"Indice:\", name)\n",
    "            if nroCelda==2:\n",
    "                price=celda.text\n",
    "                print(\"Valor:\", price)\n",
    "            nroCelda=nroCelda+1\n",
    "    nroFila=nroFila+1"
   ]
  },
  {
   "cell_type": "code",
   "execution_count": 6,
   "metadata": {
    "ExecuteTime": {
     "end_time": "2019-01-27T17:56:28.279786Z",
     "start_time": "2019-01-27T17:56:28.271938Z"
    }
   },
   "outputs": [],
   "source": [
    "# Abrimos el csv con append para que pueda agregar contenidos al final del archivo\n",
    "with open('bolsa_ibex35.csv', 'a') as csv_file:\n",
    "    writer = csv.writer(csv_file)\n",
    "    writer.writerow([name, price, datetime.now()])"
   ]
  },
  {
   "cell_type": "markdown",
   "metadata": {},
   "source": [
    "El artículo completo en www.aprendemachinelearning.com"
   ]
  },
  {
   "cell_type": "markdown",
   "metadata": {},
   "source": [
    "## Acediendo a datos de twitter\n",
    "\n",
    "Vamos a acceder a los datos de twitter utilizando la API de Twitter, y la libreria tweepy, y vamos a guardar los datos en un fichero CSV."
   ]
  },
  {
   "cell_type": "markdown",
   "metadata": {},
   "source": [
    "Para ello en primer lugar teneis que crear una aplicación en el área de desarrolladores de twitter, lo que nos permitirá acceder la API Key, el secret API Key, y Los Tokens de acceso\n"
   ]
  },
  {
   "cell_type": "markdown",
   "metadata": {},
   "source": [
    "1. Importar las librerias necesarias"
   ]
  },
  {
   "cell_type": "code",
   "execution_count": 1,
   "metadata": {},
   "outputs": [],
   "source": [
    "import tweepy  \n",
    "import time\n",
    "import csv\n",
    " \n"
   ]
  },
  {
   "cell_type": "markdown",
   "metadata": {},
   "source": [
    "2. Crear las variables con los tokens y los Ids de las APIs"
   ]
  },
  {
   "cell_type": "code",
   "execution_count": 2,
   "metadata": {},
   "outputs": [],
   "source": [
    "access_token = \"12085582-j0ie7G8xec7LaPIalqYljlUK2mh64PqDhxTu1UtNr\"  \n",
    "access_token_secret = \"D9OjFAZ7DgKVo4jwhMKWjOK56BIWyTs59YGxBsFe8NygE\"  \n",
    "consumer_key = \"rG4ptSFnS0xEpGZh29KIfwD4e\"  \n",
    "consumer_secret = \"6FcFiGERa5u63JvzCbbA9UNHdxBubrVP6wKy6cFwoySHUZOcvT\"  \n"
   ]
  },
  {
   "cell_type": "markdown",
   "metadata": {},
   "source": [
    "3. Autenticarse con tweepy, y crear un objeto API de tweepy"
   ]
  },
  {
   "cell_type": "code",
   "execution_count": 9,
   "metadata": {},
   "outputs": [
    {
     "data": {
      "text/plain": [
       "User(_api=<tweepy.api.API object at 0x1107dfcf8>, _json={'id': 12085582, 'id_str': '12085582', 'name': 'diegodl', 'screen_name': 'diegodl', 'location': '', 'description': 'Datos, música y cualquier otra cosa. Profesor @TheBridge_Tech', 'url': None, 'entities': {'description': {'urls': []}}, 'protected': False, 'followers_count': 280, 'friends_count': 543, 'listed_count': 15, 'created_at': 'Thu Jan 10 21:02:13 +0000 2008', 'favourites_count': 545, 'utc_offset': None, 'time_zone': None, 'geo_enabled': True, 'verified': False, 'statuses_count': 2560, 'lang': None, 'status': {'created_at': 'Sun Dec 15 21:00:25 +0000 2019', 'id': 1206318113580564483, 'id_str': '1206318113580564483', 'text': 'RT @joaquinmencia: https://t.co/McGcsE9RWr', 'truncated': False, 'entities': {'hashtags': [], 'symbols': [], 'user_mentions': [{'screen_name': 'joaquinmencia', 'name': 'J.', 'id': 14460582, 'id_str': '14460582', 'indices': [3, 17]}], 'urls': [], 'media': [{'id': 1205895342312632322, 'id_str': '1205895342312632322', 'indices': [19, 42], 'media_url': 'http://pbs.twimg.com/ext_tw_video_thumb/1205895342312632322/pu/img/34MiOCP6G7LYBQDQ.jpg', 'media_url_https': 'https://pbs.twimg.com/ext_tw_video_thumb/1205895342312632322/pu/img/34MiOCP6G7LYBQDQ.jpg', 'url': 'https://t.co/McGcsE9RWr', 'display_url': 'pic.twitter.com/McGcsE9RWr', 'expanded_url': 'https://twitter.com/crookedmedia/status/1205895531840593920/video/1', 'type': 'photo', 'sizes': {'thumb': {'w': 150, 'h': 150, 'resize': 'crop'}, 'medium': {'w': 1200, 'h': 675, 'resize': 'fit'}, 'small': {'w': 680, 'h': 383, 'resize': 'fit'}, 'large': {'w': 1280, 'h': 720, 'resize': 'fit'}}, 'source_status_id': 1205895531840593920, 'source_status_id_str': '1205895531840593920', 'source_user_id': 804015436979277824, 'source_user_id_str': '804015436979277824', 'features': {}}]}, 'extended_entities': {'media': [{'id': 1205895342312632322, 'id_str': '1205895342312632322', 'indices': [19, 42], 'media_url': 'http://pbs.twimg.com/ext_tw_video_thumb/1205895342312632322/pu/img/34MiOCP6G7LYBQDQ.jpg', 'media_url_https': 'https://pbs.twimg.com/ext_tw_video_thumb/1205895342312632322/pu/img/34MiOCP6G7LYBQDQ.jpg', 'url': 'https://t.co/McGcsE9RWr', 'display_url': 'pic.twitter.com/McGcsE9RWr', 'expanded_url': 'https://twitter.com/crookedmedia/status/1205895531840593920/video/1', 'type': 'video', 'sizes': {'thumb': {'w': 150, 'h': 150, 'resize': 'crop'}, 'medium': {'w': 1200, 'h': 675, 'resize': 'fit'}, 'small': {'w': 680, 'h': 383, 'resize': 'fit'}, 'large': {'w': 1280, 'h': 720, 'resize': 'fit'}}, 'source_status_id': 1205895531840593920, 'source_status_id_str': '1205895531840593920', 'source_user_id': 804015436979277824, 'source_user_id_str': '804015436979277824', 'video_info': {'aspect_ratio': [16, 9], 'duration_millis': 98557, 'variants': [{'bitrate': 832000, 'content_type': 'video/mp4', 'url': 'https://video.twimg.com/ext_tw_video/1205895342312632322/pu/vid/640x360/yXxu75rz4_L-H0oM.mp4?tag=10'}, {'content_type': 'application/x-mpegURL', 'url': 'https://video.twimg.com/ext_tw_video/1205895342312632322/pu/pl/t4IPo1yBqIcdmpE_.m3u8?tag=10'}, {'bitrate': 256000, 'content_type': 'video/mp4', 'url': 'https://video.twimg.com/ext_tw_video/1205895342312632322/pu/vid/480x270/oL-ntNB_t22D8Fqo.mp4?tag=10'}, {'bitrate': 2176000, 'content_type': 'video/mp4', 'url': 'https://video.twimg.com/ext_tw_video/1205895342312632322/pu/vid/1280x720/a_9UHVH_mPZlmLrB.mp4?tag=10'}]}, 'features': {}, 'additional_media_info': {'monetizable': False}}]}, 'source': '<a href=\"https://mobile.twitter.com\" rel=\"nofollow\">Twitter Web App</a>', 'in_reply_to_status_id': None, 'in_reply_to_status_id_str': None, 'in_reply_to_user_id': None, 'in_reply_to_user_id_str': None, 'in_reply_to_screen_name': None, 'geo': None, 'coordinates': None, 'place': None, 'contributors': None, 'retweeted_status': {'created_at': 'Sun Dec 15 20:57:05 +0000 2019', 'id': 1206317276988952580, 'id_str': '1206317276988952580', 'text': 'https://t.co/McGcsE9RWr', 'truncated': False, 'entities': {'hashtags': [], 'symbols': [], 'user_mentions': [], 'urls': [], 'media': [{'id': 1205895342312632322, 'id_str': '1205895342312632322', 'indices': [0, 23], 'media_url': 'http://pbs.twimg.com/ext_tw_video_thumb/1205895342312632322/pu/img/34MiOCP6G7LYBQDQ.jpg', 'media_url_https': 'https://pbs.twimg.com/ext_tw_video_thumb/1205895342312632322/pu/img/34MiOCP6G7LYBQDQ.jpg', 'url': 'https://t.co/McGcsE9RWr', 'display_url': 'pic.twitter.com/McGcsE9RWr', 'expanded_url': 'https://twitter.com/crookedmedia/status/1205895531840593920/video/1', 'type': 'photo', 'sizes': {'thumb': {'w': 150, 'h': 150, 'resize': 'crop'}, 'medium': {'w': 1200, 'h': 675, 'resize': 'fit'}, 'small': {'w': 680, 'h': 383, 'resize': 'fit'}, 'large': {'w': 1280, 'h': 720, 'resize': 'fit'}}, 'source_status_id': 1205895531840593920, 'source_status_id_str': '1205895531840593920', 'source_user_id': 804015436979277824, 'source_user_id_str': '804015436979277824', 'features': {}}]}, 'extended_entities': {'media': [{'id': 1205895342312632322, 'id_str': '1205895342312632322', 'indices': [0, 23], 'media_url': 'http://pbs.twimg.com/ext_tw_video_thumb/1205895342312632322/pu/img/34MiOCP6G7LYBQDQ.jpg', 'media_url_https': 'https://pbs.twimg.com/ext_tw_video_thumb/1205895342312632322/pu/img/34MiOCP6G7LYBQDQ.jpg', 'url': 'https://t.co/McGcsE9RWr', 'display_url': 'pic.twitter.com/McGcsE9RWr', 'expanded_url': 'https://twitter.com/crookedmedia/status/1205895531840593920/video/1', 'type': 'video', 'sizes': {'thumb': {'w': 150, 'h': 150, 'resize': 'crop'}, 'medium': {'w': 1200, 'h': 675, 'resize': 'fit'}, 'small': {'w': 680, 'h': 383, 'resize': 'fit'}, 'large': {'w': 1280, 'h': 720, 'resize': 'fit'}}, 'source_status_id': 1205895531840593920, 'source_status_id_str': '1205895531840593920', 'source_user_id': 804015436979277824, 'source_user_id_str': '804015436979277824', 'video_info': {'aspect_ratio': [16, 9], 'duration_millis': 98557, 'variants': [{'bitrate': 832000, 'content_type': 'video/mp4', 'url': 'https://video.twimg.com/ext_tw_video/1205895342312632322/pu/vid/640x360/yXxu75rz4_L-H0oM.mp4?tag=10'}, {'content_type': 'application/x-mpegURL', 'url': 'https://video.twimg.com/ext_tw_video/1205895342312632322/pu/pl/t4IPo1yBqIcdmpE_.m3u8?tag=10'}, {'bitrate': 256000, 'content_type': 'video/mp4', 'url': 'https://video.twimg.com/ext_tw_video/1205895342312632322/pu/vid/480x270/oL-ntNB_t22D8Fqo.mp4?tag=10'}, {'bitrate': 2176000, 'content_type': 'video/mp4', 'url': 'https://video.twimg.com/ext_tw_video/1205895342312632322/pu/vid/1280x720/a_9UHVH_mPZlmLrB.mp4?tag=10'}]}, 'features': {}, 'additional_media_info': {'monetizable': False}}]}, 'source': '<a href=\"http://twitter.com/download/iphone\" rel=\"nofollow\">Twitter for iPhone</a>', 'in_reply_to_status_id': None, 'in_reply_to_status_id_str': None, 'in_reply_to_user_id': None, 'in_reply_to_user_id_str': None, 'in_reply_to_screen_name': None, 'geo': None, 'coordinates': None, 'place': None, 'contributors': None, 'is_quote_status': False, 'retweet_count': 1, 'favorite_count': 2, 'favorited': False, 'retweeted': True, 'possibly_sensitive': False, 'lang': 'und'}, 'is_quote_status': False, 'retweet_count': 1, 'favorite_count': 0, 'favorited': False, 'retweeted': True, 'possibly_sensitive': False, 'lang': 'und'}, 'contributors_enabled': False, 'is_translator': False, 'is_translation_enabled': False, 'profile_background_color': 'C0DEED', 'profile_background_image_url': 'http://abs.twimg.com/images/themes/theme1/bg.png', 'profile_background_image_url_https': 'https://abs.twimg.com/images/themes/theme1/bg.png', 'profile_background_tile': False, 'profile_image_url': 'http://pbs.twimg.com/profile_images/427227927/profile_normal.JPG', 'profile_image_url_https': 'https://pbs.twimg.com/profile_images/427227927/profile_normal.JPG', 'profile_link_color': '1DA1F2', 'profile_sidebar_border_color': 'C0DEED', 'profile_sidebar_fill_color': 'DDEEF6', 'profile_text_color': '333333', 'profile_use_background_image': True, 'has_extended_profile': False, 'default_profile': True, 'default_profile_image': False, 'can_media_tag': True, 'followed_by': False, 'following': False, 'follow_request_sent': False, 'notifications': False, 'translator_type': 'none', 'suspended': False, 'needs_phone_verification': False}, id=12085582, id_str='12085582', name='diegodl', screen_name='diegodl', location='', description='Datos, música y cualquier otra cosa. Profesor @TheBridge_Tech', url=None, entities={'description': {'urls': []}}, protected=False, followers_count=280, friends_count=543, listed_count=15, created_at=datetime.datetime(2008, 1, 10, 21, 2, 13), favourites_count=545, utc_offset=None, time_zone=None, geo_enabled=True, verified=False, statuses_count=2560, lang=None, status=Status(_api=<tweepy.api.API object at 0x1107dfcf8>, _json={'created_at': 'Sun Dec 15 21:00:25 +0000 2019', 'id': 1206318113580564483, 'id_str': '1206318113580564483', 'text': 'RT @joaquinmencia: https://t.co/McGcsE9RWr', 'truncated': False, 'entities': {'hashtags': [], 'symbols': [], 'user_mentions': [{'screen_name': 'joaquinmencia', 'name': 'J.', 'id': 14460582, 'id_str': '14460582', 'indices': [3, 17]}], 'urls': [], 'media': [{'id': 1205895342312632322, 'id_str': '1205895342312632322', 'indices': [19, 42], 'media_url': 'http://pbs.twimg.com/ext_tw_video_thumb/1205895342312632322/pu/img/34MiOCP6G7LYBQDQ.jpg', 'media_url_https': 'https://pbs.twimg.com/ext_tw_video_thumb/1205895342312632322/pu/img/34MiOCP6G7LYBQDQ.jpg', 'url': 'https://t.co/McGcsE9RWr', 'display_url': 'pic.twitter.com/McGcsE9RWr', 'expanded_url': 'https://twitter.com/crookedmedia/status/1205895531840593920/video/1', 'type': 'photo', 'sizes': {'thumb': {'w': 150, 'h': 150, 'resize': 'crop'}, 'medium': {'w': 1200, 'h': 675, 'resize': 'fit'}, 'small': {'w': 680, 'h': 383, 'resize': 'fit'}, 'large': {'w': 1280, 'h': 720, 'resize': 'fit'}}, 'source_status_id': 1205895531840593920, 'source_status_id_str': '1205895531840593920', 'source_user_id': 804015436979277824, 'source_user_id_str': '804015436979277824', 'features': {}}]}, 'extended_entities': {'media': [{'id': 1205895342312632322, 'id_str': '1205895342312632322', 'indices': [19, 42], 'media_url': 'http://pbs.twimg.com/ext_tw_video_thumb/1205895342312632322/pu/img/34MiOCP6G7LYBQDQ.jpg', 'media_url_https': 'https://pbs.twimg.com/ext_tw_video_thumb/1205895342312632322/pu/img/34MiOCP6G7LYBQDQ.jpg', 'url': 'https://t.co/McGcsE9RWr', 'display_url': 'pic.twitter.com/McGcsE9RWr', 'expanded_url': 'https://twitter.com/crookedmedia/status/1205895531840593920/video/1', 'type': 'video', 'sizes': {'thumb': {'w': 150, 'h': 150, 'resize': 'crop'}, 'medium': {'w': 1200, 'h': 675, 'resize': 'fit'}, 'small': {'w': 680, 'h': 383, 'resize': 'fit'}, 'large': {'w': 1280, 'h': 720, 'resize': 'fit'}}, 'source_status_id': 1205895531840593920, 'source_status_id_str': '1205895531840593920', 'source_user_id': 804015436979277824, 'source_user_id_str': '804015436979277824', 'video_info': {'aspect_ratio': [16, 9], 'duration_millis': 98557, 'variants': [{'bitrate': 832000, 'content_type': 'video/mp4', 'url': 'https://video.twimg.com/ext_tw_video/1205895342312632322/pu/vid/640x360/yXxu75rz4_L-H0oM.mp4?tag=10'}, {'content_type': 'application/x-mpegURL', 'url': 'https://video.twimg.com/ext_tw_video/1205895342312632322/pu/pl/t4IPo1yBqIcdmpE_.m3u8?tag=10'}, {'bitrate': 256000, 'content_type': 'video/mp4', 'url': 'https://video.twimg.com/ext_tw_video/1205895342312632322/pu/vid/480x270/oL-ntNB_t22D8Fqo.mp4?tag=10'}, {'bitrate': 2176000, 'content_type': 'video/mp4', 'url': 'https://video.twimg.com/ext_tw_video/1205895342312632322/pu/vid/1280x720/a_9UHVH_mPZlmLrB.mp4?tag=10'}]}, 'features': {}, 'additional_media_info': {'monetizable': False}}]}, 'source': '<a href=\"https://mobile.twitter.com\" rel=\"nofollow\">Twitter Web App</a>', 'in_reply_to_status_id': None, 'in_reply_to_status_id_str': None, 'in_reply_to_user_id': None, 'in_reply_to_user_id_str': None, 'in_reply_to_screen_name': None, 'geo': None, 'coordinates': None, 'place': None, 'contributors': None, 'retweeted_status': {'created_at': 'Sun Dec 15 20:57:05 +0000 2019', 'id': 1206317276988952580, 'id_str': '1206317276988952580', 'text': 'https://t.co/McGcsE9RWr', 'truncated': False, 'entities': {'hashtags': [], 'symbols': [], 'user_mentions': [], 'urls': [], 'media': [{'id': 1205895342312632322, 'id_str': '1205895342312632322', 'indices': [0, 23], 'media_url': 'http://pbs.twimg.com/ext_tw_video_thumb/1205895342312632322/pu/img/34MiOCP6G7LYBQDQ.jpg', 'media_url_https': 'https://pbs.twimg.com/ext_tw_video_thumb/1205895342312632322/pu/img/34MiOCP6G7LYBQDQ.jpg', 'url': 'https://t.co/McGcsE9RWr', 'display_url': 'pic.twitter.com/McGcsE9RWr', 'expanded_url': 'https://twitter.com/crookedmedia/status/1205895531840593920/video/1', 'type': 'photo', 'sizes': {'thumb': {'w': 150, 'h': 150, 'resize': 'crop'}, 'medium': {'w': 1200, 'h': 675, 'resize': 'fit'}, 'small': {'w': 680, 'h': 383, 'resize': 'fit'}, 'large': {'w': 1280, 'h': 720, 'resize': 'fit'}}, 'source_status_id': 1205895531840593920, 'source_status_id_str': '1205895531840593920', 'source_user_id': 804015436979277824, 'source_user_id_str': '804015436979277824', 'features': {}}]}, 'extended_entities': {'media': [{'id': 1205895342312632322, 'id_str': '1205895342312632322', 'indices': [0, 23], 'media_url': 'http://pbs.twimg.com/ext_tw_video_thumb/1205895342312632322/pu/img/34MiOCP6G7LYBQDQ.jpg', 'media_url_https': 'https://pbs.twimg.com/ext_tw_video_thumb/1205895342312632322/pu/img/34MiOCP6G7LYBQDQ.jpg', 'url': 'https://t.co/McGcsE9RWr', 'display_url': 'pic.twitter.com/McGcsE9RWr', 'expanded_url': 'https://twitter.com/crookedmedia/status/1205895531840593920/video/1', 'type': 'video', 'sizes': {'thumb': {'w': 150, 'h': 150, 'resize': 'crop'}, 'medium': {'w': 1200, 'h': 675, 'resize': 'fit'}, 'small': {'w': 680, 'h': 383, 'resize': 'fit'}, 'large': {'w': 1280, 'h': 720, 'resize': 'fit'}}, 'source_status_id': 1205895531840593920, 'source_status_id_str': '1205895531840593920', 'source_user_id': 804015436979277824, 'source_user_id_str': '804015436979277824', 'video_info': {'aspect_ratio': [16, 9], 'duration_millis': 98557, 'variants': [{'bitrate': 832000, 'content_type': 'video/mp4', 'url': 'https://video.twimg.com/ext_tw_video/1205895342312632322/pu/vid/640x360/yXxu75rz4_L-H0oM.mp4?tag=10'}, {'content_type': 'application/x-mpegURL', 'url': 'https://video.twimg.com/ext_tw_video/1205895342312632322/pu/pl/t4IPo1yBqIcdmpE_.m3u8?tag=10'}, {'bitrate': 256000, 'content_type': 'video/mp4', 'url': 'https://video.twimg.com/ext_tw_video/1205895342312632322/pu/vid/480x270/oL-ntNB_t22D8Fqo.mp4?tag=10'}, {'bitrate': 2176000, 'content_type': 'video/mp4', 'url': 'https://video.twimg.com/ext_tw_video/1205895342312632322/pu/vid/1280x720/a_9UHVH_mPZlmLrB.mp4?tag=10'}]}, 'features': {}, 'additional_media_info': {'monetizable': False}}]}, 'source': '<a href=\"http://twitter.com/download/iphone\" rel=\"nofollow\">Twitter for iPhone</a>', 'in_reply_to_status_id': None, 'in_reply_to_status_id_str': None, 'in_reply_to_user_id': None, 'in_reply_to_user_id_str': None, 'in_reply_to_screen_name': None, 'geo': None, 'coordinates': None, 'place': None, 'contributors': None, 'is_quote_status': False, 'retweet_count': 1, 'favorite_count': 2, 'favorited': False, 'retweeted': True, 'possibly_sensitive': False, 'lang': 'und'}, 'is_quote_status': False, 'retweet_count': 1, 'favorite_count': 0, 'favorited': False, 'retweeted': True, 'possibly_sensitive': False, 'lang': 'und'}, created_at=datetime.datetime(2019, 12, 15, 21, 0, 25), id=1206318113580564483, id_str='1206318113580564483', text='RT @joaquinmencia: https://t.co/McGcsE9RWr', truncated=False, entities={'hashtags': [], 'symbols': [], 'user_mentions': [{'screen_name': 'joaquinmencia', 'name': 'J.', 'id': 14460582, 'id_str': '14460582', 'indices': [3, 17]}], 'urls': [], 'media': [{'id': 1205895342312632322, 'id_str': '1205895342312632322', 'indices': [19, 42], 'media_url': 'http://pbs.twimg.com/ext_tw_video_thumb/1205895342312632322/pu/img/34MiOCP6G7LYBQDQ.jpg', 'media_url_https': 'https://pbs.twimg.com/ext_tw_video_thumb/1205895342312632322/pu/img/34MiOCP6G7LYBQDQ.jpg', 'url': 'https://t.co/McGcsE9RWr', 'display_url': 'pic.twitter.com/McGcsE9RWr', 'expanded_url': 'https://twitter.com/crookedmedia/status/1205895531840593920/video/1', 'type': 'photo', 'sizes': {'thumb': {'w': 150, 'h': 150, 'resize': 'crop'}, 'medium': {'w': 1200, 'h': 675, 'resize': 'fit'}, 'small': {'w': 680, 'h': 383, 'resize': 'fit'}, 'large': {'w': 1280, 'h': 720, 'resize': 'fit'}}, 'source_status_id': 1205895531840593920, 'source_status_id_str': '1205895531840593920', 'source_user_id': 804015436979277824, 'source_user_id_str': '804015436979277824', 'features': {}}]}, extended_entities={'media': [{'id': 1205895342312632322, 'id_str': '1205895342312632322', 'indices': [19, 42], 'media_url': 'http://pbs.twimg.com/ext_tw_video_thumb/1205895342312632322/pu/img/34MiOCP6G7LYBQDQ.jpg', 'media_url_https': 'https://pbs.twimg.com/ext_tw_video_thumb/1205895342312632322/pu/img/34MiOCP6G7LYBQDQ.jpg', 'url': 'https://t.co/McGcsE9RWr', 'display_url': 'pic.twitter.com/McGcsE9RWr', 'expanded_url': 'https://twitter.com/crookedmedia/status/1205895531840593920/video/1', 'type': 'video', 'sizes': {'thumb': {'w': 150, 'h': 150, 'resize': 'crop'}, 'medium': {'w': 1200, 'h': 675, 'resize': 'fit'}, 'small': {'w': 680, 'h': 383, 'resize': 'fit'}, 'large': {'w': 1280, 'h': 720, 'resize': 'fit'}}, 'source_status_id': 1205895531840593920, 'source_status_id_str': '1205895531840593920', 'source_user_id': 804015436979277824, 'source_user_id_str': '804015436979277824', 'video_info': {'aspect_ratio': [16, 9], 'duration_millis': 98557, 'variants': [{'bitrate': 832000, 'content_type': 'video/mp4', 'url': 'https://video.twimg.com/ext_tw_video/1205895342312632322/pu/vid/640x360/yXxu75rz4_L-H0oM.mp4?tag=10'}, {'content_type': 'application/x-mpegURL', 'url': 'https://video.twimg.com/ext_tw_video/1205895342312632322/pu/pl/t4IPo1yBqIcdmpE_.m3u8?tag=10'}, {'bitrate': 256000, 'content_type': 'video/mp4', 'url': 'https://video.twimg.com/ext_tw_video/1205895342312632322/pu/vid/480x270/oL-ntNB_t22D8Fqo.mp4?tag=10'}, {'bitrate': 2176000, 'content_type': 'video/mp4', 'url': 'https://video.twimg.com/ext_tw_video/1205895342312632322/pu/vid/1280x720/a_9UHVH_mPZlmLrB.mp4?tag=10'}]}, 'features': {}, 'additional_media_info': {'monetizable': False}}]}, source='Twitter Web App', source_url='https://mobile.twitter.com', in_reply_to_status_id=None, in_reply_to_status_id_str=None, in_reply_to_user_id=None, in_reply_to_user_id_str=None, in_reply_to_screen_name=None, geo=None, coordinates=None, place=None, contributors=None, retweeted_status=Status(_api=<tweepy.api.API object at 0x1107dfcf8>, _json={'created_at': 'Sun Dec 15 20:57:05 +0000 2019', 'id': 1206317276988952580, 'id_str': '1206317276988952580', 'text': 'https://t.co/McGcsE9RWr', 'truncated': False, 'entities': {'hashtags': [], 'symbols': [], 'user_mentions': [], 'urls': [], 'media': [{'id': 1205895342312632322, 'id_str': '1205895342312632322', 'indices': [0, 23], 'media_url': 'http://pbs.twimg.com/ext_tw_video_thumb/1205895342312632322/pu/img/34MiOCP6G7LYBQDQ.jpg', 'media_url_https': 'https://pbs.twimg.com/ext_tw_video_thumb/1205895342312632322/pu/img/34MiOCP6G7LYBQDQ.jpg', 'url': 'https://t.co/McGcsE9RWr', 'display_url': 'pic.twitter.com/McGcsE9RWr', 'expanded_url': 'https://twitter.com/crookedmedia/status/1205895531840593920/video/1', 'type': 'photo', 'sizes': {'thumb': {'w': 150, 'h': 150, 'resize': 'crop'}, 'medium': {'w': 1200, 'h': 675, 'resize': 'fit'}, 'small': {'w': 680, 'h': 383, 'resize': 'fit'}, 'large': {'w': 1280, 'h': 720, 'resize': 'fit'}}, 'source_status_id': 1205895531840593920, 'source_status_id_str': '1205895531840593920', 'source_user_id': 804015436979277824, 'source_user_id_str': '804015436979277824', 'features': {}}]}, 'extended_entities': {'media': [{'id': 1205895342312632322, 'id_str': '1205895342312632322', 'indices': [0, 23], 'media_url': 'http://pbs.twimg.com/ext_tw_video_thumb/1205895342312632322/pu/img/34MiOCP6G7LYBQDQ.jpg', 'media_url_https': 'https://pbs.twimg.com/ext_tw_video_thumb/1205895342312632322/pu/img/34MiOCP6G7LYBQDQ.jpg', 'url': 'https://t.co/McGcsE9RWr', 'display_url': 'pic.twitter.com/McGcsE9RWr', 'expanded_url': 'https://twitter.com/crookedmedia/status/1205895531840593920/video/1', 'type': 'video', 'sizes': {'thumb': {'w': 150, 'h': 150, 'resize': 'crop'}, 'medium': {'w': 1200, 'h': 675, 'resize': 'fit'}, 'small': {'w': 680, 'h': 383, 'resize': 'fit'}, 'large': {'w': 1280, 'h': 720, 'resize': 'fit'}}, 'source_status_id': 1205895531840593920, 'source_status_id_str': '1205895531840593920', 'source_user_id': 804015436979277824, 'source_user_id_str': '804015436979277824', 'video_info': {'aspect_ratio': [16, 9], 'duration_millis': 98557, 'variants': [{'bitrate': 832000, 'content_type': 'video/mp4', 'url': 'https://video.twimg.com/ext_tw_video/1205895342312632322/pu/vid/640x360/yXxu75rz4_L-H0oM.mp4?tag=10'}, {'content_type': 'application/x-mpegURL', 'url': 'https://video.twimg.com/ext_tw_video/1205895342312632322/pu/pl/t4IPo1yBqIcdmpE_.m3u8?tag=10'}, {'bitrate': 256000, 'content_type': 'video/mp4', 'url': 'https://video.twimg.com/ext_tw_video/1205895342312632322/pu/vid/480x270/oL-ntNB_t22D8Fqo.mp4?tag=10'}, {'bitrate': 2176000, 'content_type': 'video/mp4', 'url': 'https://video.twimg.com/ext_tw_video/1205895342312632322/pu/vid/1280x720/a_9UHVH_mPZlmLrB.mp4?tag=10'}]}, 'features': {}, 'additional_media_info': {'monetizable': False}}]}, 'source': '<a href=\"http://twitter.com/download/iphone\" rel=\"nofollow\">Twitter for iPhone</a>', 'in_reply_to_status_id': None, 'in_reply_to_status_id_str': None, 'in_reply_to_user_id': None, 'in_reply_to_user_id_str': None, 'in_reply_to_screen_name': None, 'geo': None, 'coordinates': None, 'place': None, 'contributors': None, 'is_quote_status': False, 'retweet_count': 1, 'favorite_count': 2, 'favorited': False, 'retweeted': True, 'possibly_sensitive': False, 'lang': 'und'}, created_at=datetime.datetime(2019, 12, 15, 20, 57, 5), id=1206317276988952580, id_str='1206317276988952580', text='https://t.co/McGcsE9RWr', truncated=False, entities={'hashtags': [], 'symbols': [], 'user_mentions': [], 'urls': [], 'media': [{'id': 1205895342312632322, 'id_str': '1205895342312632322', 'indices': [0, 23], 'media_url': 'http://pbs.twimg.com/ext_tw_video_thumb/1205895342312632322/pu/img/34MiOCP6G7LYBQDQ.jpg', 'media_url_https': 'https://pbs.twimg.com/ext_tw_video_thumb/1205895342312632322/pu/img/34MiOCP6G7LYBQDQ.jpg', 'url': 'https://t.co/McGcsE9RWr', 'display_url': 'pic.twitter.com/McGcsE9RWr', 'expanded_url': 'https://twitter.com/crookedmedia/status/1205895531840593920/video/1', 'type': 'photo', 'sizes': {'thumb': {'w': 150, 'h': 150, 'resize': 'crop'}, 'medium': {'w': 1200, 'h': 675, 'resize': 'fit'}, 'small': {'w': 680, 'h': 383, 'resize': 'fit'}, 'large': {'w': 1280, 'h': 720, 'resize': 'fit'}}, 'source_status_id': 1205895531840593920, 'source_status_id_str': '1205895531840593920', 'source_user_id': 804015436979277824, 'source_user_id_str': '804015436979277824', 'features': {}}]}, extended_entities={'media': [{'id': 1205895342312632322, 'id_str': '1205895342312632322', 'indices': [0, 23], 'media_url': 'http://pbs.twimg.com/ext_tw_video_thumb/1205895342312632322/pu/img/34MiOCP6G7LYBQDQ.jpg', 'media_url_https': 'https://pbs.twimg.com/ext_tw_video_thumb/1205895342312632322/pu/img/34MiOCP6G7LYBQDQ.jpg', 'url': 'https://t.co/McGcsE9RWr', 'display_url': 'pic.twitter.com/McGcsE9RWr', 'expanded_url': 'https://twitter.com/crookedmedia/status/1205895531840593920/video/1', 'type': 'video', 'sizes': {'thumb': {'w': 150, 'h': 150, 'resize': 'crop'}, 'medium': {'w': 1200, 'h': 675, 'resize': 'fit'}, 'small': {'w': 680, 'h': 383, 'resize': 'fit'}, 'large': {'w': 1280, 'h': 720, 'resize': 'fit'}}, 'source_status_id': 1205895531840593920, 'source_status_id_str': '1205895531840593920', 'source_user_id': 804015436979277824, 'source_user_id_str': '804015436979277824', 'video_info': {'aspect_ratio': [16, 9], 'duration_millis': 98557, 'variants': [{'bitrate': 832000, 'content_type': 'video/mp4', 'url': 'https://video.twimg.com/ext_tw_video/1205895342312632322/pu/vid/640x360/yXxu75rz4_L-H0oM.mp4?tag=10'}, {'content_type': 'application/x-mpegURL', 'url': 'https://video.twimg.com/ext_tw_video/1205895342312632322/pu/pl/t4IPo1yBqIcdmpE_.m3u8?tag=10'}, {'bitrate': 256000, 'content_type': 'video/mp4', 'url': 'https://video.twimg.com/ext_tw_video/1205895342312632322/pu/vid/480x270/oL-ntNB_t22D8Fqo.mp4?tag=10'}, {'bitrate': 2176000, 'content_type': 'video/mp4', 'url': 'https://video.twimg.com/ext_tw_video/1205895342312632322/pu/vid/1280x720/a_9UHVH_mPZlmLrB.mp4?tag=10'}]}, 'features': {}, 'additional_media_info': {'monetizable': False}}]}, source='Twitter for iPhone', source_url='http://twitter.com/download/iphone', in_reply_to_status_id=None, in_reply_to_status_id_str=None, in_reply_to_user_id=None, in_reply_to_user_id_str=None, in_reply_to_screen_name=None, geo=None, coordinates=None, place=None, contributors=None, is_quote_status=False, retweet_count=1, favorite_count=2, favorited=False, retweeted=True, possibly_sensitive=False, lang='und'), is_quote_status=False, retweet_count=1, favorite_count=0, favorited=False, retweeted=True, possibly_sensitive=False, lang='und'), contributors_enabled=False, is_translator=False, is_translation_enabled=False, profile_background_color='C0DEED', profile_background_image_url='http://abs.twimg.com/images/themes/theme1/bg.png', profile_background_image_url_https='https://abs.twimg.com/images/themes/theme1/bg.png', profile_background_tile=False, profile_image_url='http://pbs.twimg.com/profile_images/427227927/profile_normal.JPG', profile_image_url_https='https://pbs.twimg.com/profile_images/427227927/profile_normal.JPG', profile_link_color='1DA1F2', profile_sidebar_border_color='C0DEED', profile_sidebar_fill_color='DDEEF6', profile_text_color='333333', profile_use_background_image=True, has_extended_profile=False, default_profile=True, default_profile_image=False, can_media_tag=True, followed_by=False, following=False, follow_request_sent=False, notifications=False, translator_type='none', suspended=False, needs_phone_verification=False)"
      ]
     },
     "execution_count": 9,
     "metadata": {},
     "output_type": "execute_result"
    }
   ],
   "source": [
    " \n",
    "auth = tweepy.OAuthHandler(consumer_key, consumer_secret)  \n",
    "auth.set_access_token(access_token, access_token_secret)  \n",
    "api = tweepy.API(auth,wait_on_rate_limit=True)\n",
    "api.verify_credentials()"
   ]
  },
  {
   "cell_type": "markdown",
   "metadata": {},
   "source": [
    "4. Abrir un fichero csv en modo append e incluir una busqueda por un hastag "
   ]
  },
  {
   "cell_type": "code",
   "execution_count": null,
   "metadata": {},
   "outputs": [],
   "source": [
    "csvFile = open('cop25.csv', 'a')\n",
    "#Use csv Writer\n",
    "csvWriter = csv.writer(csvFile)\n",
    "\n",
    "for tweet in tweepy.Cursor(api.search,q=\"#cop25\",count=5000,\n",
    "                           lang=\"en\",\n",
    "                           since=\"2019-10-12\").items():\n",
    "    print (tweet.created_at, tweet.text)\n",
    "    csvWriter.writerow([tweet.created_at, tweet.text.encode('utf-8')])"
   ]
  },
  {
   "cell_type": "code",
   "execution_count": null,
   "metadata": {},
   "outputs": [],
   "source": [
    "csvFile = open('final_balonmano.csv', 'a')\n",
    "#Use csv Writer\n",
    "csvWriter = csv.writer(csvFile)\n",
    "\n",
    "for tweet in tweepy.Cursor(api.search,q=\"#GuerrerasTVE\",count=5000,\n",
    "                           lang=\"es\",\n",
    "                           since=\"2019-10-12\").items():\n",
    "    print (tweet.created_at, tweet.text)\n",
    "    csvWriter.writerow([tweet.created_at, tweet.text.encode('utf-8')])"
   ]
  }
 ],
 "metadata": {
  "kernelspec": {
   "display_name": "Python 3",
   "language": "python",
   "name": "python3"
  },
  "language_info": {
   "codemirror_mode": {
    "name": "ipython",
    "version": 3
   },
   "file_extension": ".py",
   "mimetype": "text/x-python",
   "name": "python",
   "nbconvert_exporter": "python",
   "pygments_lexer": "ipython3",
   "version": "3.6.9"
  }
 },
 "nbformat": 4,
 "nbformat_minor": 4
}
